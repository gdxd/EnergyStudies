{
 "cells": [
  {
   "cell_type": "code",
   "execution_count": null,
   "id": "e1393149-0516-4293-839d-8000f985597e",
   "metadata": {},
   "outputs": [],
   "source": [
    "import json\n",
    "import matplotlib.pyplot as plt\n",
    "import numpy as np"
   ]
  },
  {
   "cell_type": "code",
   "execution_count": null,
   "id": "4f23e42d-115b-4390-94d8-3232d57b9239",
   "metadata": {},
   "outputs": [],
   "source": [
    "#!ls"
   ]
  },
  {
   "cell_type": "code",
   "execution_count": null,
   "id": "2f28d1f0-2512-40bb-9543-6d3565215422",
   "metadata": {},
   "outputs": [],
   "source": [
    "# download command to get data from awattar\n",
    "#!curl \"https://api.awattar.de/v1/marketdata?start=1635724800000&end=1667260800000\" > awattar_1121_1022.json\n",
    "#!wget 'http://www-static.etp.physik.uni-muenchen.de/kurs/Computing/data/awattar_1121_1022.json'\n",
    "f=open('awattar_1121_1022.json')\n",
    "a=json.load(f)"
   ]
  },
  {
   "cell_type": "code",
   "execution_count": null,
   "id": "fafed2c6-0535-49ee-9168-f407eef17792",
   "metadata": {},
   "outputs": [],
   "source": [
    "d=[(x['start_timestamp'],x['marketprice']) for x in a['data']] # convert into 2D list"
   ]
  },
  {
   "cell_type": "code",
   "execution_count": null,
   "id": "970b6305-da44-43c2-831b-adcbcfd7b652",
   "metadata": {},
   "outputs": [],
   "source": [
    "# conervt into pd df , convert epoch timestamp into python datetime\n",
    "import pandas as pd\n",
    "df = pd.DataFrame( d, columns=['timestamp','price'])\n",
    "# convert epoch ms into datetime and use as index\n",
    "df.index = pd.to_datetime(df.timestamp,unit='ms')"
   ]
  },
  {
   "cell_type": "code",
   "execution_count": null,
   "id": "56418f62-9120-474c-a972-97b896e713a1",
   "metadata": {},
   "outputs": [],
   "source": [
    "df"
   ]
  },
  {
   "cell_type": "code",
   "execution_count": null,
   "id": "25e6a3ab-eb00-449c-b400-3b6dacfb1542",
   "metadata": {},
   "outputs": [],
   "source": [
    "df.loc['2021-12'].price.plot() # plot dec 21"
   ]
  },
  {
   "cell_type": "code",
   "execution_count": null,
   "id": "2c34645a-8ea2-4ca5-b94a-d2a997c53e52",
   "metadata": {},
   "outputs": [],
   "source": [
    "# plot selected day range\n",
    "df.loc['2022-10-04':'2022-10-06'].price.plot() \n",
    "plt.grid()"
   ]
  },
  {
   "cell_type": "code",
   "execution_count": null,
   "id": "4e5d30e1-4401-4593-8a09-d2e2676cb8f6",
   "metadata": {},
   "outputs": [],
   "source": [
    "# resample per week\n",
    "dfw=df['price'].resample('w').mean() \n",
    "dfw.plot()\n",
    "plt.grid()"
   ]
  },
  {
   "cell_type": "code",
   "execution_count": null,
   "id": "ba581504-6f9a-40e9-8eb2-55609778b033",
   "metadata": {},
   "outputs": [],
   "source": [
    "df.price.hist(bins=100)"
   ]
  },
  {
   "cell_type": "code",
   "execution_count": null,
   "id": "3cd4d3dc-e875-4596-a632-a758c996ac8e",
   "metadata": {},
   "outputs": [],
   "source": [
    "np.percentile(df.price,[5,25,50,75,95])"
   ]
  },
  {
   "cell_type": "code",
   "execution_count": null,
   "id": "cbd6f647-6d68-4234-85a7-5c5f489eebc6",
   "metadata": {},
   "outputs": [],
   "source": [
    "# calculate cost saving and cpu loss\n",
    "l=np.median(df.price) # median price\n",
    "h=np.max(df.price)    # maximum price\n",
    "print(f\"Median price={l:.2f}  Max price={h:.2f}\")\n",
    "N=50\n",
    "tl=np.linspace(l,h,N) # 50 points from median cost to max cost\n",
    "nt = df.price.count()\n",
    "st = df.price.sum()\n",
    "nva = np.zeros(N,dtype=float)\n",
    "sva = np.zeros(N,dtype=float)\n",
    "\n",
    "for i,x in enumerate(tl[::-1]):\n",
    "    nv = df.price[df.price>x].count() # count entries larger cost x\n",
    "    sv = df.price[df.price>x].sum()   # sum entries larger cost x\n",
    "    nva[i] = nv\n",
    "    sva[i] = sv\n",
    "    \n",
    "sfact = 0.4 # cpu-cycle/power-factor during reducedoperation\n",
    "losscpu = (1-sfact)*nva/nt # normalized cpu lost\n",
    "losscost = (1-sfact)*sva/st # normalized cost reduction"
   ]
  },
  {
   "cell_type": "code",
   "execution_count": null,
   "id": "67fc38db-d487-44a5-8627-49f4cc738bf8",
   "metadata": {},
   "outputs": [],
   "source": [
    "#\n",
    "plt.figure(figsize=(12,8))\n",
    "plt.plot(losscpu,losscost)\n",
    "plt.plot(losscpu,losscpu)\n",
    "plt.grid()\n",
    "plt.xlabel('CPU loss')\n",
    "plt.ylabel('Cost saving')"
   ]
  },
  {
   "cell_type": "code",
   "execution_count": null,
   "id": "6cc938dd-e5be-4d04-a2d9-6349c6a17b8d",
   "metadata": {
    "tags": []
   },
   "outputs": [],
   "source": [
    "df.price[df.price>tl[5]].count()"
   ]
  },
  {
   "cell_type": "code",
   "execution_count": null,
   "id": "972e0705-6f10-47fc-b71c-9095f843cf4a",
   "metadata": {},
   "outputs": [],
   "source": [
    "n"
   ]
  },
  {
   "cell_type": "code",
   "execution_count": null,
   "id": "b42053f3-0f73-49a0-8a94-220f192b47d2",
   "metadata": {},
   "outputs": [],
   "source": [
    "1+1"
   ]
  },
  {
   "cell_type": "code",
   "execution_count": null,
   "id": "963400cd-3de1-4259-bce0-a6612ba51b3c",
   "metadata": {},
   "outputs": [],
   "source": [
    "pd.show_v"
   ]
  },
  {
   "cell_type": "code",
   "execution_count": null,
   "id": "5a8274a1-681b-4692-b1e7-f101b8ad1d9a",
   "metadata": {},
   "outputs": [],
   "source": [
    "1+1"
   ]
  },
  {
   "cell_type": "code",
   "execution_count": null,
   "id": "3be7d47f-1e74-4677-a228-10992df8f4df",
   "metadata": {},
   "outputs": [],
   "source": []
  }
 ],
 "metadata": {
  "kernelspec": {
   "display_name": "Python 3 (ipykernel)",
   "language": "python",
   "name": "python3"
  },
  "language_info": {
   "codemirror_mode": {
    "name": "ipython",
    "version": 3
   },
   "file_extension": ".py",
   "mimetype": "text/x-python",
   "name": "python",
   "nbconvert_exporter": "python",
   "pygments_lexer": "ipython3",
   "version": "3.10.5"
  }
 },
 "nbformat": 4,
 "nbformat_minor": 5
}
