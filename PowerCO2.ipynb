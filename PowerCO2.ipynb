{
 "cells": [
  {
   "cell_type": "code",
   "execution_count": null,
   "id": "79b0002d-3959-4ba5-9dcf-ab79a1fe68b4",
   "metadata": {},
   "outputs": [],
   "source": [
    "import json\n",
    "import matplotlib.pyplot as plt\n",
    "import numpy as np\n",
    "import pandas as pd"
   ]
  },
  {
   "cell_type": "code",
   "execution_count": null,
   "id": "243bb7f0-7b47-4a17-a68f-bee4b95cbab0",
   "metadata": {},
   "outputs": [],
   "source": [
    "# download command to get power cost data from awattar\n",
    "#!curl \"https://api.awattar.de/v1/marketdata?start=1635724800000&end=1667260800000\" > awattar_1121_1022.json\n",
    "#!wget 'http://www-static.etp.physik.uni-muenchen.de/kurs/Computing/data/awattar_1121_1022.json'\n",
    "#!wget 'http://www-static.etp.physik.uni-muenchen.de/kurs/Computing/data/awattar_0121_1221.json'\n",
    "#f=open('awattar_1121_1022.json')\n",
    "f=open('awattar_0121_1221.json') # 2021 data\n",
    "\n",
    "a=json.load(f)\n",
    "d=[(x['start_timestamp'],x['marketprice']) for x in a['data']] # convert into 2D list\n",
    "dfc = pd.DataFrame( d, columns=['timestamp','price'])\n",
    "# convert epoch ms into datetime and use as index\n",
    "dfc.index = pd.to_datetime(dfc.timestamp,unit='ms',utc=True)"
   ]
  },
  {
   "cell_type": "code",
   "execution_count": null,
   "id": "87829b3f-d2bb-4a4b-9a22-4f04df6d085c",
   "metadata": {},
   "outputs": [],
   "source": [
    "dfc"
   ]
  },
  {
   "cell_type": "code",
   "execution_count": null,
   "id": "2eddc0a5-d026-46ad-af64-7790b72f28ee",
   "metadata": {},
   "outputs": [],
   "source": [
    "dfc.describe()"
   ]
  },
  {
   "cell_type": "code",
   "execution_count": null,
   "id": "173ee1cc-ae5d-4387-b818-82ada5c5b7d8",
   "metadata": {},
   "outputs": [],
   "source": [
    "dfc.loc['2021-12'].price.plot() # plot dec 21"
   ]
  },
  {
   "cell_type": "code",
   "execution_count": null,
   "id": "8bda986c-77b4-4dbb-a173-1d2e480be2a5",
   "metadata": {},
   "outputs": [],
   "source": [
    "# resample per week\n",
    "dfw=dfc['price'].resample('w').mean() \n",
    "dfw.plot()\n",
    "plt.grid()"
   ]
  },
  {
   "cell_type": "code",
   "execution_count": null,
   "id": "ea17fa83-d97c-4fea-acb9-9cc65b978729",
   "metadata": {},
   "outputs": [],
   "source": [
    "# get energy mix data from csv for 2021 & 2022\n",
    "dfe21=pd.read_csv('http://www-static.etp.physik.uni-muenchen.de/kurs/Computing/data/energy-charts_Oeffentliche_Nettostromerzeugung_in_Deutschland_2021.csv',index_col='Datum (GMT+1)',parse_dates=['Datum (GMT+1)'],engine='python')\n",
    "dfe22=pd.read_csv('http://www-static.etp.physik.uni-muenchen.de/kurs/Computing/data/energy-charts_Oeffentliche_Nettostromerzeugung_in_Deutschland_2022.csv',index_col='Datum (GMT+1)',parse_dates=['Datum (GMT+1)'],engine='python')\n"
   ]
  },
  {
   "cell_type": "code",
   "execution_count": null,
   "id": "d6b3de31-bf64-4478-af91-b50854db66f8",
   "metadata": {},
   "outputs": [],
   "source": [
    "dfe=pd.concat((dfe21,dfe22))"
   ]
  },
  {
   "cell_type": "code",
   "execution_count": null,
   "id": "ca49f747-8c87-4b69-a65c-f22a67992558",
   "metadata": {},
   "outputs": [],
   "source": [
    "dfe.describe()"
   ]
  },
  {
   "cell_type": "code",
   "execution_count": null,
   "id": "d0dd2c58-d4f8-4ecc-a87b-749a8b897f26",
   "metadata": {},
   "outputs": [],
   "source": [
    "dfe.Solar.plot();"
   ]
  },
  {
   "cell_type": "code",
   "execution_count": null,
   "id": "ac7e78fc-8fa8-42a0-aac0-a90965ff1607",
   "metadata": {},
   "outputs": [],
   "source": [
    "dfe['total']=dfe.sum(axis=1)-dfe.Last"
   ]
  },
  {
   "cell_type": "code",
   "execution_count": null,
   "id": "0ae9ce6f-618d-45d7-bafb-d14d2ce82af3",
   "metadata": {},
   "outputs": [],
   "source": [
    "# CO2 Emission g/kWh-Strom (aus Tab 3 https://www.umweltbundesamt.de/sites/default/files/medien/1410/publikationen/2022-04-13_cc_15-2022_strommix_2022_fin_bf.pdf)\n",
    "co2fact={\"Braunkohle\":1146,\"Steinkohle\":852,\"Erdgas\":397}\n",
    "co2fact['Oel']=500 # GD estimate"
   ]
  },
  {
   "cell_type": "code",
   "execution_count": null,
   "id": "d7ebf345-59b8-40ae-9811-bdb52ef353d6",
   "metadata": {},
   "outputs": [],
   "source": [
    "dfe['co2frac'] = (co2fact['Steinkohle']*dfe.Steinkohle+co2fact['Braunkohle']*dfe.Braunkohle+\n",
    "                  co2fact['Erdgas']*dfe.Erdgas+co2fact['Oel']*dfe['Öl'])/dfe['total']"
   ]
  },
  {
   "cell_type": "code",
   "execution_count": null,
   "id": "3ea46f09-c403-43f4-b97d-0c5bdf3bddbb",
   "metadata": {},
   "outputs": [],
   "source": [
    "dfe"
   ]
  },
  {
   "cell_type": "code",
   "execution_count": null,
   "id": "d5b926e7-d55a-46a9-8c32-f39c6edf6ce5",
   "metadata": {},
   "outputs": [],
   "source": [
    "co2fact"
   ]
  },
  {
   "cell_type": "code",
   "execution_count": null,
   "id": "81f7049f-6779-474d-8c50-233fc9a162dc",
   "metadata": {},
   "outputs": [],
   "source": [
    "# data in 15 min intervals --> avg per hour\n",
    "dfeh=dfe.resample('1H').mean()\n"
   ]
  },
  {
   "cell_type": "code",
   "execution_count": null,
   "id": "13aaeb1d-11d1-41df-b4ee-0fa190db9439",
   "metadata": {},
   "outputs": [],
   "source": [
    "# select data from 2021\n",
    "#dfeh2= dfeh['2021-11-01':'2022-10-31']\n",
    "dfeh2= dfeh['2021-01-01':'2021-12-31']\n"
   ]
  },
  {
   "cell_type": "code",
   "execution_count": null,
   "id": "8467b361-ec0d-401f-8c5c-8576d94c1845",
   "metadata": {},
   "outputs": [],
   "source": [
    "# combine energy mix and cost df\n",
    "dfehc=dfeh2.join(dfc)"
   ]
  },
  {
   "cell_type": "code",
   "execution_count": null,
   "id": "a7cc2636-7821-4f5c-bdd8-e45f1dea7656",
   "metadata": {},
   "outputs": [],
   "source": [
    "dfehc.describe()"
   ]
  },
  {
   "cell_type": "code",
   "execution_count": null,
   "id": "9bc343b0-eee0-43ad-a69f-48a8a560d82a",
   "metadata": {},
   "outputs": [],
   "source": [
    "dfehc[dfehc.co2frac>600]"
   ]
  },
  {
   "cell_type": "code",
   "execution_count": null,
   "id": "3ba7ff7f-0b96-4d5a-968d-dee54f880f24",
   "metadata": {},
   "outputs": [],
   "source": [
    "fig = plt.figure(1, figsize=(14,6))\n",
    "ax1 = fig.add_subplot(121)\n",
    "dfehc.hist('co2frac',bins=50,ax=ax1)\n",
    "ax2 = fig.add_subplot(122)\n",
    "dfehc.hist('price',bins=50,ax=ax2);"
   ]
  },
  {
   "cell_type": "code",
   "execution_count": null,
   "id": "53b45aa1-feb7-4b06-834c-c3d14ddb658c",
   "metadata": {},
   "outputs": [],
   "source": [
    "dfehc.plot.scatter('price','co2frac',marker='.')\n",
    "plt.grid()"
   ]
  },
  {
   "cell_type": "code",
   "execution_count": null,
   "id": "cc2a86b9-a7e6-4efb-a8df-1e54550dd442",
   "metadata": {},
   "outputs": [],
   "source": [
    "import seaborn as sns\n",
    "sns.jointplot(data=dfehc,x='price',y='co2frac', kind='hist');\n"
   ]
  },
  {
   "cell_type": "markdown",
   "id": "45b7bf87-09a8-41cc-81d8-8c638e040d57",
   "metadata": {},
   "source": [
    "### Calculate cpu loss, cost and co2 savings\n",
    "\n",
    "Global ansatz: use 1 year data to determine percentiles for thresholds"
   ]
  },
  {
   "cell_type": "code",
   "execution_count": null,
   "id": "16ac4cc0-40ca-4601-9d69-723f4c37627c",
   "metadata": {},
   "outputs": [],
   "source": [
    "df = dfehc\n",
    "# calculate cost & co2 saving and cpu loss\n",
    "l=np.median(df.price) # median price\n",
    "h=np.max(df.price)    # maximum price\n",
    "print(f\"Median price={l:.2f}  Max price={h:.2f}\")\n",
    "N=50\n",
    "pcs=np.linspace(0.,100.,N)\n",
    "tl = np.percentile(df.price,pcs) # get percentiles\n",
    "\n",
    "\n",
    "\n",
    "nt = df.price.count()\n",
    "st = df.price.sum()\n",
    "co2t = df.co2frac.sum()\n",
    "nva = np.zeros(N,dtype=float)\n",
    "sva = np.zeros(N,dtype=float)\n",
    "cva = np.zeros(N,dtype=float)\n",
    "\n",
    "# simple algorithm: take global threshold values between 0 and max-cost\n",
    "for i,x in enumerate(tl[::-1]):\n",
    "    nv = df.price[df.price>x].count() # count entries larger cost x\n",
    "    sv = df.price[df.price>x].sum()   # sum entries larger cost x\n",
    "    cv = df.co2frac[df.price>x].sum()\n",
    "    nva[i] = nv\n",
    "    sva[i] = sv\n",
    "    cva[i] = cv\n",
    "    \n",
    "    \n",
    "sfact = 0.4 # cpu-cycle/power-factor during reducedoperation\n",
    "losscpu = (1-sfact)*nva/nt # normalized cpu lost\n",
    "losscost = (1-sfact)*sva/st # normalized cost reduction\n",
    "lossco2  = (1-sfact)*cva/co2t"
   ]
  },
  {
   "cell_type": "code",
   "execution_count": null,
   "id": "b422bad5-5449-4f4c-bed6-83e33bc4e920",
   "metadata": {},
   "outputs": [],
   "source": [
    "for i in range(0,len(losscpu),2):\n",
    "    print(f\"{losscpu[i]:.5f}  {losscost[i]:.5f}  {lossco2[i]:.5f}\")"
   ]
  },
  {
   "cell_type": "code",
   "execution_count": null,
   "id": "cba6d6bb-268f-4e42-bb0e-047344f8b3ed",
   "metadata": {},
   "outputs": [],
   "source": [
    "#\n",
    "plt.figure(figsize=(12,8))\n",
    "plt.plot(losscpu,losscost,label='cost')\n",
    "plt.plot(losscpu,lossco2,label='co2')\n",
    "plt.plot(losscpu,losscpu)\n",
    "plt.grid()\n",
    "plt.xlabel('CPU loss')\n",
    "plt.ylabel('Cost saving')\n",
    "plt.legend()"
   ]
  },
  {
   "cell_type": "markdown",
   "id": "9a7adbd5-bb34-4c79-a1f5-3f6f7dc6af42",
   "metadata": {},
   "source": [
    "### Calculate cpu loss, cost and co2 savings\n",
    "\n",
    "local ansatz: use last weeks data to determine percentiles for thresholds, update daily"
   ]
  },
  {
   "cell_type": "code",
   "execution_count": null,
   "id": "97724479-7704-4d64-9f7f-2a7349dffc98",
   "metadata": {},
   "outputs": [],
   "source": [
    "df = dfehc\n",
    "deltad=24\n",
    "deltaw=7*24\n",
    "nt=len(df)\n",
    "\n",
    "N=50\n",
    "nva = np.zeros(N,dtype=float)\n",
    "sva = np.zeros(N,dtype=float)\n",
    "cva = np.zeros(N,dtype=float)\n",
    "\n",
    "# recalculate thresholds daily using last week avg\n",
    "ilist = list(range(deltaw,nt,deltad))\n",
    "pcs=np.linspace(0.,100.,N)\n",
    "for ind in ilist:\n",
    "    #print(ind)\n",
    "    # determine percentiles last 7 days\n",
    "    dfl = df.iloc[ind-deltaw:ind]\n",
    "    tl = np.percentile(dfl.price,pcs)\n",
    "    # apply to next 24h\n",
    "    dfd = df.iloc[ind:ind+deltad]\n",
    "    for i,x in enumerate(tl[::-1]):\n",
    "        nv = dfd.price[dfd.price>x].count() # count entries larger cost x\n",
    "        sv = dfd.price[dfd.price>x].sum()   # sum entries larger cost x\n",
    "        cv = dfd.co2frac[dfd.price>x].sum()\n",
    "        nva[i] += nv\n",
    "        sva[i] += sv\n",
    "        cva[i] += cv\n",
    "\n",
    "dfl = df.iloc[deltaw:]\n",
    "nt = dfl.price.count()\n",
    "st = dfl.price.sum()\n",
    "co2t = dfl.co2frac.sum()\n",
    "\n",
    "\n",
    "\n",
    "    \n",
    "sfact = 0.4 # cpu-cycle/power-factor during reducedoperation\n",
    "losscpu = (1-sfact)*nva/nt # normalized cpu lost\n",
    "losscost = (1-sfact)*sva/st # normalized cost reduction\n",
    "lossco2  = (1-sfact)*cva/co2t"
   ]
  },
  {
   "cell_type": "code",
   "execution_count": null,
   "id": "1ab4ed71-ae8d-48de-98e7-ec31eae9aedd",
   "metadata": {},
   "outputs": [],
   "source": [
    "for i in range(0,len(losscpu),2):\n",
    "    print(f\"{losscpu[i]:.5f}  {losscost[i]:.5f}  {lossco2[i]:.5f}\")"
   ]
  },
  {
   "cell_type": "code",
   "execution_count": null,
   "id": "d775ada5-f7be-483c-96dc-9fe87af2bd01",
   "metadata": {},
   "outputs": [],
   "source": [
    "#\n",
    "plt.figure(figsize=(12,8))\n",
    "plt.plot(losscpu,losscost,label='cost')\n",
    "plt.plot(losscpu,lossco2,label='co2')\n",
    "plt.plot(losscpu,losscpu)\n",
    "plt.grid()\n",
    "plt.xlabel('CPU loss')\n",
    "plt.ylabel('Cost saving')\n",
    "plt.legend()"
   ]
  },
  {
   "cell_type": "code",
   "execution_count": null,
   "id": "462b7c86-f402-4654-a39c-863829ac2e92",
   "metadata": {},
   "outputs": [],
   "source": []
  }
 ],
 "metadata": {
  "kernelspec": {
   "display_name": "Python 3 (ipykernel)",
   "language": "python",
   "name": "python3"
  },
  "language_info": {
   "codemirror_mode": {
    "name": "ipython",
    "version": 3
   },
   "file_extension": ".py",
   "mimetype": "text/x-python",
   "name": "python",
   "nbconvert_exporter": "python",
   "pygments_lexer": "ipython3",
   "version": "3.10.5"
  }
 },
 "nbformat": 4,
 "nbformat_minor": 5
}
